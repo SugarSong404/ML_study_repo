{
 "cells": [
  {
   "cell_type": "code",
   "execution_count": 1,
   "metadata": {},
   "outputs": [],
   "source": [
    "import numpy as np\n",
    "from DecisionTree import *"
   ]
  },
  {
   "cell_type": "code",
   "execution_count": 26,
   "metadata": {},
   "outputs": [],
   "source": [
    "csv = np.genfromtxt(\"e9.csv\", delimiter=',', skip_header=1, dtype=str)\n",
    "np.random.shuffle(csv)\n",
    "train_len = int(csv.shape[0]*0.9)\n",
    "train_csv = csv[:train_len]\n",
    "val_csv = csv[train_len:]\n",
    "\n",
    "t_data = train_csv[:,1:-1]\n",
    "t_label = np.array(train_csv[:,-1]).reshape(len(t_data),1)\n",
    "v_data = val_csv[:,1:-1]\n",
    "v_label = np.array(val_csv[:,-1]).reshape(len(v_data),1)\n",
    "\n",
    "reg = np.array([0,1,1])"
   ]
  },
  {
   "cell_type": "code",
   "execution_count": 27,
   "metadata": {},
   "outputs": [
    {
     "name": "stdout",
     "output_type": "stream",
     "text": [
      "score : 0.95\n"
     ]
    }
   ],
   "source": [
    "dt = DecisionTree(t_data,t_label,reg=reg)\n",
    "dt.train()\n",
    "print(f\"score : {dt.score(v_data,v_label)}\")"
   ]
  },
  {
   "cell_type": "code",
   "execution_count": 3,
   "metadata": {},
   "outputs": [
    {
     "name": "stdout",
     "output_type": "stream",
     "text": [
      "Decision Tree Structure:\n",
      "Feature: 1\n",
      "  └─ Value: <=42.000\n",
      "    Feature: 2\n",
      "      └─ Value: <=90000.000\n",
      "        Feature: 0\n",
      "          └─ Value: =Male\n",
      "              └─ Label: 0\n",
      "          └─ Value: =Female\n",
      "              └─ Label: 0\n",
      "      └─ Value: >90000.000\n",
      "        Feature: 0\n",
      "          └─ Value: =Male\n",
      "              └─ Label: 1\n",
      "          └─ Value: =Female\n",
      "              └─ Label: 1\n",
      "  └─ Value: >42.000\n",
      "    Feature: 2\n",
      "      └─ Value: <=39000.000\n",
      "        Feature: 0\n",
      "          └─ Value: =Male\n",
      "              └─ Label: 1\n",
      "          └─ Value: =Female\n",
      "              └─ Label: 1\n",
      "      └─ Value: >39000.000\n",
      "        Feature: 0\n",
      "          └─ Value: =Male\n",
      "              └─ Label: 1\n",
      "          └─ Value: =Female\n",
      "              └─ Label: 1\n"
     ]
    }
   ],
   "source": [
    "dt.show()"
   ]
  },
  {
   "cell_type": "code",
   "execution_count": 29,
   "metadata": {},
   "outputs": [
    {
     "data": {
      "text/plain": [
       "'0'"
      ]
     },
     "execution_count": 29,
     "metadata": {},
     "output_type": "execute_result"
    }
   ],
   "source": [
    "dt.predict(np.array([['Male',29,80000]]))[0]"
   ]
  },
  {
   "cell_type": "code",
   "execution_count": 30,
   "metadata": {},
   "outputs": [],
   "source": [
    "dt.save_model(\"e9.pkl\")"
   ]
  },
  {
   "cell_type": "code",
   "execution_count": 2,
   "metadata": {},
   "outputs": [],
   "source": [
    "dt = DecisionTree(None,None,None)\n",
    "dt.load_model(\"e9.pkl\")"
   ]
  }
 ],
 "metadata": {
  "kernelspec": {
   "display_name": "ml",
   "language": "python",
   "name": "python3"
  },
  "language_info": {
   "codemirror_mode": {
    "name": "ipython",
    "version": 3
   },
   "file_extension": ".py",
   "mimetype": "text/x-python",
   "name": "python",
   "nbconvert_exporter": "python",
   "pygments_lexer": "ipython3",
   "version": "3.8.20"
  }
 },
 "nbformat": 4,
 "nbformat_minor": 2
}
